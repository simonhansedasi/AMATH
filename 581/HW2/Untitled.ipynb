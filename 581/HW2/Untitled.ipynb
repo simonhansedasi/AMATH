{
 "cells": [
  {
   "cell_type": "code",
   "execution_count": 1,
   "id": "e751fefe-a072-4827-ae12-cd793fd538f1",
   "metadata": {},
   "outputs": [],
   "source": [
    "import numpy as np\n",
    "import matplotlib.pyplot as plt"
   ]
  },
  {
   "cell_type": "code",
   "execution_count": null,
   "id": "359c3e17-6ed3-4af1-8969-41132c194714",
   "metadata": {},
   "outputs": [],
   "source": [
    "eigenfuncs = np.genfromtxt('prob1_eigenfunctions.txt', delimeter = ',')\n",
    "eigenvals = np.genfromtxt('prob1_eigenvalues.txt', delimeter = ',')"
   ]
  }
 ],
 "metadata": {
  "kernelspec": {
   "display_name": "Python 3 (ipykernel)",
   "language": "python",
   "name": "python3"
  },
  "language_info": {
   "codemirror_mode": {
    "name": "ipython",
    "version": 3
   },
   "file_extension": ".py",
   "mimetype": "text/x-python",
   "name": "python",
   "nbconvert_exporter": "python",
   "pygments_lexer": "ipython3",
   "version": "3.10.6"
  }
 },
 "nbformat": 4,
 "nbformat_minor": 5
}
