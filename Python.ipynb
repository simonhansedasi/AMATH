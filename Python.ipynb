{
 "cells": [
  {
   "cell_type": "code",
   "execution_count": 58,
   "id": "ae80f8f4",
   "metadata": {},
   "outputs": [],
   "source": [
    "import numpy as np"
   ]
  },
  {
   "cell_type": "code",
   "execution_count": 109,
   "id": "a4cb19d0",
   "metadata": {},
   "outputs": [],
   "source": [
    "a = numpy.ones(10)\n",
    "for j in a:\n",
    "    a[-9] = 1"
   ]
  },
  {
   "cell_type": "code",
   "execution_count": 74,
   "id": "27080563",
   "metadata": {},
   "outputs": [
    {
     "name": "stdout",
     "output_type": "stream",
     "text": [
      "0.5328630101611709\n",
      "0.6530975740289382\n",
      "0.017833719452513774\n",
      "0.13295268200411692\n",
      "0.42056651344564944\n",
      "0.09946032691144202\n",
      "0.8056152777659359\n",
      "0.6249531446933652\n",
      "0.24967695685543823\n",
      "0.2189476694214213\n"
     ]
    },
    {
     "data": {
      "text/plain": [
       "array([0.65309757, 0.13295268, 0.09946033, 0.62495314, 0.21894767,\n",
       "       0.        , 0.        , 0.        , 0.        , 0.        ])"
      ]
     },
     "execution_count": 74,
     "metadata": {},
     "output_type": "execute_result"
    }
   ],
   "source": [
    "a=numpy.zeros(10)\n",
    "\n",
    "a\n",
    "for i in [0, 0, 1, 1, 2, 2, 3, 3, 4, 4]:\n",
    "    a[i] = np.random.rand()\n",
    "    print(a[i])\n",
    "a"
   ]
  },
  {
   "cell_type": "code",
   "execution_count": 76,
   "id": "ef5cf233",
   "metadata": {},
   "outputs": [
    {
     "name": "stdout",
     "output_type": "stream",
     "text": [
      "3\n",
      "1\n",
      "-1\n",
      "-3\n",
      "-5\n",
      "-7\n",
      "-9\n",
      "-11\n"
     ]
    }
   ],
   "source": [
    "a = 5\n",
    "while numpy.abs(a) < 10: \n",
    "    a -= 2\n",
    "    print(a)"
   ]
  },
  {
   "cell_type": "code",
   "execution_count": null,
   "id": "7c91cded",
   "metadata": {},
   "outputs": [],
   "source": []
  }
 ],
 "metadata": {
  "kernelspec": {
   "display_name": "Python 3 (ipykernel)",
   "language": "python",
   "name": "python3"
  },
  "language_info": {
   "codemirror_mode": {
    "name": "ipython",
    "version": 3
   },
   "file_extension": ".py",
   "mimetype": "text/x-python",
   "name": "python",
   "nbconvert_exporter": "python",
   "pygments_lexer": "ipython3",
   "version": "3.8.10"
  }
 },
 "nbformat": 4,
 "nbformat_minor": 5
}
